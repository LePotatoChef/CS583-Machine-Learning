{
 "cells": [
  {
   "cell_type": "code",
   "execution_count": null,
   "metadata": {
    "scrolled": true
   },
   "outputs": [],
   "source": [
    "from sklearn import tree\n",
    "from sklearn.datasets import load_iris\n",
    "import numpy as np\n",
    "from sklearn import preprocessing\n",
    "import pandas as pd\n",
    "\n",
    "\n",
    "clf = tree.DecisionTreeClassifier()\n",
    "\n",
    "filename = \"credit.txt\"\n",
    "data = np.genfromtxt(filename, delimiter=None,dtype=str)\n",
    "print(data)\n",
    "\n",
    "df = pd.DataFrame(data[1:9])\n",
    "df.columns=data[0]\n",
    "\n",
    "\n",
    "print(df)\n",
    "print(df.columns)\n",
    "# one_hot_data = pd.get_dummies(df.columns,drop_first=False)\n",
    "# print(one_hot_data)\n",
    "# print(df['Risk'])\n",
    "# clf.fit(one_hot_data, df['Risk'])\n",
    "\n",
    "#data = pd.DataFrame()\n",
    "#df = pd.read_fwf(filename)\n",
    "#data = pd.read_csv(filename, sep=\" \", header=None)\n",
    "#print(df)\n",
    "#data.columns = [\"a\", \"b\", \"c\", \"etc.\"]\n",
    "# # Name   Debt    Income\tMarried?\tOwns_Property\tGender\tRisk\n",
    "# # Tim    low     low      no\t\tno\t\tmale\tlow\n",
    "# # Joe    high    high\tyes\t\tyes\t\tmale\tlow\n",
    "# # Sue    low     high\tyes\t\tno\t\tfemale\tlow\n",
    "# # John   medium  low\tno\t\tno\t\tmale\thigh\n",
    "# # Mary   high    low\tyes\t\tno\t\tfemale\thigh\n",
    "# # Fred   low     low\tyes\t\tno\t\tmale\thigh\n",
    "# # Pete   low     medium\tno\t\tyes\t\tmale\tlow\n",
    "# # Jacob  high    medium\tyes\t\tyes\t\tmale\tlow\n",
    "# # Sofia  medium  low\tno\t\tno\t\tfemale\tlow\t\n",
    "# data = pd.DataFrame()\n",
    "# data['Name'] = ['Tim', 'Joe', '']\n",
    "# one_hot_data = pd.get_dummies(data[['A','B','C']],drop_first=True)\n",
    "# tree.fit(one_hot_data, data['Class'])\n",
    "# clf = clf.fit(X, Y)\n",
    "# # 训练完成后，我们可以用 export_graphviz 将树导出为 Graphviz 格式，存到文件iris.dot中\n",
    "# with open(\"credit.dot\", 'w') as f:\n",
    "#     f = tree.export_graphviz(clf, out_file=f)\n",
    "\n",
    "# [['Name' 'Debt' 'Income' 'Married?' 'Owns_Property' 'Gender' 'Risk']\n",
    "#  ['Tim' 'low' 'low' 'no' 'no' 'male' 'low']\n",
    "#  ['Joe' 'high' 'high' 'yes' 'yes' 'male' 'low']\n",
    "#  ['Sue' 'low' 'high' 'yes' 'no' 'female' 'low']\n",
    "#  ['John' 'medium' 'low' 'no' 'no' 'male' 'high']\n",
    "#  ['Mary' 'high' 'low' 'yes' 'no' 'female' 'high']\n",
    "#  ['Fred' 'low' 'low' 'yes' 'no' 'male' 'high']\n",
    "#  ['Pete' 'low' 'medium' 'no' 'yes' 'male' 'low']\n",
    "#  ['Jacob' 'high' 'medium' 'yes' 'yes' 'male' 'low']\n",
    "#  ['Sofia' 'medium' 'low' 'no' 'no' 'female' 'low']]"
   ]
  },
  {
   "cell_type": "code",
   "execution_count": 32,
   "metadata": {},
   "outputs": [
    {
     "name": "stdout",
     "output_type": "stream",
     "text": [
      "Requirement already satisfied: pandas in /usr/local/anaconda3/envs/ml/lib/python3.6/site-packages (1.1.2)\n",
      "Requirement already satisfied: python-dateutil>=2.7.3 in /usr/local/anaconda3/envs/ml/lib/python3.6/site-packages (from pandas) (2.8.1)\n",
      "Requirement already satisfied: pytz>=2017.2 in /usr/local/anaconda3/envs/ml/lib/python3.6/site-packages (from pandas) (2020.1)\n",
      "Requirement already satisfied: numpy>=1.15.4 in /usr/local/anaconda3/envs/ml/lib/python3.6/site-packages (from pandas) (1.19.1)\n",
      "Requirement already satisfied: six>=1.5 in /usr/local/anaconda3/envs/ml/lib/python3.6/site-packages (from python-dateutil>=2.7.3->pandas) (1.15.0)\n"
     ]
    }
   ],
   "source": [
    "!pip install pandas"
   ]
  },
  {
   "cell_type": "code",
   "execution_count": null,
   "metadata": {},
   "outputs": [],
   "source": []
  }
 ],
 "metadata": {
  "kernelspec": {
   "display_name": "Python 3",
   "language": "python",
   "name": "python3"
  },
  "language_info": {
   "codemirror_mode": {
    "name": "ipython",
    "version": 3
   },
   "file_extension": ".py",
   "mimetype": "text/x-python",
   "name": "python",
   "nbconvert_exporter": "python",
   "pygments_lexer": "ipython3",
   "version": "3.6.10"
  }
 },
 "nbformat": 4,
 "nbformat_minor": 4
}
